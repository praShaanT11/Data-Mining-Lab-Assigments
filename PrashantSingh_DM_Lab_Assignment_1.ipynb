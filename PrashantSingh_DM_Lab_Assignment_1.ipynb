{
  "nbformat": 4,
  "nbformat_minor": 0,
  "metadata": {
    "colab": {
      "provenance": []
    },
    "kernelspec": {
      "name": "python3",
      "display_name": "Python 3"
    },
    "language_info": {
      "name": "python"
    }
  },
  "cells": [
    {
      "cell_type": "markdown",
      "source": [
        "#**Assignment-1**\n",
        "\n",
        "**Name**: Prashant Singh\n",
        "\n",
        "**Program**: Mtech(CS)\n",
        "\n",
        "**Enrollnment No.**: SAU/CS/Mtech(CS)/2024/04\n",
        "\n",
        "Question: Determine whether the interval and the class target have some correlation or not? (where,\n",
        "significance value = 0.1)"
      ],
      "metadata": {
        "id": "K4t4mLNCKsBW"
      }
    },
    {
      "cell_type": "markdown",
      "source": [
        "#**ChiMerge Function**"
      ],
      "metadata": {
        "id": "4nFVA0S1NLHM"
      }
    },
    {
      "cell_type": "code",
      "execution_count": 35,
      "metadata": {
        "id": "CM4bXrwAH3h-"
      },
      "outputs": [],
      "source": [
        "import numpy as np\n",
        "import pandas as pd\n",
        "from scipy.stats import chisquare\n",
        "from scipy.stats import chi2_contingency\n",
        "\n",
        "def chimerge(data, attr, target, max_intervals):\n",
        "    distinct_vals = sorted(data[attr].unique())  # Unique sorted values\n",
        "    targets = sorted(data[target].unique())  # Unique targets\n",
        "    empty_count = {l: 0 for l in targets}  # Initialize count for targets\n",
        "    intervals = [[distinct_vals[i], distinct_vals[i]] for i in range(len(distinct_vals))]  # Initialize intervals\n",
        "\n",
        "    while len(intervals) > max_intervals:\n",
        "        chi_values = []\n",
        "\n",
        "        for i in range(len(intervals) - 1):\n",
        "            # For Combining two intervals\n",
        "            combined = data[data[attr].between(intervals[i][0], intervals[i + 1][1])]\n",
        "\n",
        "            # Counting Occurences for each target in the combined interval\n",
        "            observed_counts = [combined[target].value_counts().get(l, 0) for l in targets]\n",
        "            expected_counts = [0] * len(targets)\n",
        "\n",
        "            # Expected counts\n",
        "            total = sum(observed_counts)\n",
        "            if total > 0:\n",
        "                for j in range(len(targets)):\n",
        "                    expected_counts[j] = total * (empty_count[targets[j]] + observed_counts[j]) / total\n",
        "\n",
        "            #Chi-squared value\n",
        "            if all(count > 0 for count in expected_counts):\n",
        "              chi_val = chisquare(observed_counts, f_exp=expected_counts)[0]\n",
        "            else:\n",
        "              chi_val = np.nan\n",
        "\n",
        "\n",
        "            chi_values.append(chi_val)\n",
        "\n",
        "        # Merging\n",
        "        min_chi_index = np.argmin(chi_values)\n",
        "\n",
        "        new_intervals = []\n",
        "        skip = False\n",
        "        for i in range(len(intervals)):\n",
        "            if skip:\n",
        "                skip = False\n",
        "                continue\n",
        "            if i == min_chi_index:\n",
        "                new_intervals.append([min(intervals[i][0], intervals[i + 1][1]), max(intervals[i][1], intervals[i + 1][1])])\n",
        "                skip = True\n",
        "            else:\n",
        "                new_intervals.append(intervals[i])\n",
        "        intervals = new_intervals\n",
        "\n",
        "    return intervals\n",
        "\n",
        "\n"
      ]
    },
    {
      "cell_type": "markdown",
      "source": [
        "#Question-1"
      ],
      "metadata": {
        "id": "P9kE6kstONKV"
      }
    },
    {
      "cell_type": "code",
      "source": [
        "#Dataset-1\n",
        "data={\n",
        "    'F': [1,3,7,8,9,11,23,37,39,45,46,59],\n",
        "    'K':[1,2,1,1,1,2,2,1,2,1,1,1]\n",
        "    }\n",
        "\n",
        "df=pd.DataFrame(data)\n",
        "print(f\"The given Dataset is:\\n{df}\")"
      ],
      "metadata": {
        "colab": {
          "base_uri": "https://localhost:8080/"
        },
        "id": "9MpG8abuOQed",
        "outputId": "28b1310c-6602-41e7-8668-0f480e335094"
      },
      "execution_count": 36,
      "outputs": [
        {
          "output_type": "stream",
          "name": "stdout",
          "text": [
            "The given Dataset is:\n",
            "     F  K\n",
            "0    1  1\n",
            "1    3  2\n",
            "2    7  1\n",
            "3    8  1\n",
            "4    9  1\n",
            "5   11  2\n",
            "6   23  2\n",
            "7   37  1\n",
            "8   39  2\n",
            "9   45  1\n",
            "10  46  1\n",
            "11  59  1\n"
          ]
        }
      ]
    },
    {
      "cell_type": "code",
      "source": [
        "merged_intervals = chimerge(df, 'F', 'K', max_intervals=3)\n",
        "\n",
        "# Creating contingency table\n",
        "bins = [interval[0] for interval in merged_intervals] + [merged_intervals[-1][1]]\n",
        "data['F_bins'] = pd.cut(data['F'], bins=bins, include_lowest=True)\n",
        "\n",
        "contingency_table = pd.crosstab(data['F_bins'], data['K'])\n",
        "\n",
        "# Chi-squared test\n",
        "chi2_stat, p_value, dof, expected = chi2_contingency(contingency_table)\n",
        "\n",
        "if p_value < 0.1:\n",
        "    print(\"There is a significant correlation between the interval and class label.\")\n",
        "else:\n",
        "    print(\"There is no significant correlation between the interval and class label.\")\n",
        "\n",
        "print(f\"Chi-squared Statistic: {chi2_stat}, P-value: {p_value}\")\n",
        "print(f\"Contingency Table:{contingency_table}\")\n"
      ],
      "metadata": {
        "colab": {
          "base_uri": "https://localhost:8080/"
        },
        "id": "HOarWGGmPWYB",
        "outputId": "e0bcfe77-151c-4901-9d1d-2a0f35602df1"
      },
      "execution_count": 37,
      "outputs": [
        {
          "output_type": "stream",
          "name": "stdout",
          "text": [
            "There is no significant correlation between the interval and class label.\n",
            "Chi-squared Statistic: 2.0, P-value: 0.36787944117144245\n",
            "Contingency Table:col_0          1  2\n",
            "row_0              \n",
            "(0.999, 39.0]  5  4\n",
            "(39.0, 45.0]   1  0\n",
            "(45.0, 59.0]   2  0\n"
          ]
        }
      ]
    },
    {
      "cell_type": "markdown",
      "source": [
        "#Question-2"
      ],
      "metadata": {
        "id": "TpYRIuhfSbuY"
      }
    },
    {
      "cell_type": "code",
      "source": [
        "#Dataset-2\n",
        "data2 = {\n",
        "    'X': [1, 5, 9, 13, 17, 21, 24],\n",
        "    'Y': [2, 8, 14, 20, 26, 32, 36],\n",
        "    'C': ['A', 'B', 'A', 'B', 'A', 'B', 'A']\n",
        "}\n",
        "\n",
        "df2 = pd.DataFrame(data2)\n",
        "print(f\"The given Dataset is:\\n{df2}\")"
      ],
      "metadata": {
        "colab": {
          "base_uri": "https://localhost:8080/"
        },
        "id": "ZblrlAXzSkgk",
        "outputId": "04f6f6e4-e3ac-4926-f57e-e78a067bcd6d"
      },
      "execution_count": 38,
      "outputs": [
        {
          "output_type": "stream",
          "name": "stdout",
          "text": [
            "The given Dataset is:\n",
            "    X   Y  C\n",
            "0   1   2  A\n",
            "1   5   8  B\n",
            "2   9  14  A\n",
            "3  13  20  B\n",
            "4  17  26  A\n",
            "5  21  32  B\n",
            "6  24  36  A\n"
          ]
        }
      ]
    },
    {
      "cell_type": "code",
      "source": [
        "merged_intervals_X = chimerge(df2, 'X', 'C', max_intervals=3)\n",
        "merged_intervals_Y = chimerge(df2, 'Y', 'C', max_intervals=3)\n",
        "#Bins for X\n",
        "bins_X = [interval[0] for interval in merged_intervals_X] + [merged_intervals_X[-1][1]]\n",
        "bins_X = list(set(bins_X))\n",
        "bins_X.sort()\n",
        "#Bins for Y\n",
        "bins_Y = [interval[0] for interval in merged_intervals_Y] + [merged_intervals_Y[-1][1]]\n",
        "bins_Y = list(set(bins_Y))\n",
        "bins_Y.sort()\n",
        "\n",
        "data['X_bins'] = pd.cut(df2['X'], bins=bins_X, include_lowest=True)\n",
        "data['Y_bins'] = pd.cut(df2['Y'], bins=bins_Y, include_lowest=True)\n",
        "\n",
        "contingency_table_X = pd.crosstab(data['X_bins'], data['C'])\n",
        "contingency_table_Y = pd.crosstab(data['Y_bins'], data['C'])\n",
        "# Chi-squared test for X\n",
        "chi2_stat_X, p_value_X, dof_X, expected_X = chi2_contingency(contingency_table_X)\n",
        "# Chi-squared test for Y\n",
        "chi2_stat_Y, p_value_Y, dof_Y, expected_Y = chi2_contingency(contingency_table_Y)\n",
        "\n",
        "# Results for X\n",
        "if p_value_X < 0.1:\n",
        "    print(\"There is a significant correlation between X and class label.\")\n",
        "else:\n",
        "    print(\"There is no significant correlation between X and class label.\")\n",
        "\n",
        "print(f\"Chi-squared Statistic for X: {chi2_stat_X}, P-value for X: {p_value_X}\")\n",
        "print(f\"Contingency Table for X:\\n{contingency_table_X}\")\n",
        "\n",
        "# Results for Y\n",
        "if p_value_Y < 0.1:\n",
        "    print(\"There is a significant correlation between Y and class label.\")\n",
        "else:\n",
        "    print(\"There is no significant correlation between Y and class label.\")\n",
        "\n",
        "print(f\"Chi-squared Statistic for Y: {chi2_stat_Y}, P-value for Y: {p_value_Y}\")\n",
        "print(f\"Contingency Table for Y:\\n{contingency_table_Y}\")\n"
      ],
      "metadata": {
        "colab": {
          "base_uri": "https://localhost:8080/"
        },
        "id": "YWrCWIhcTDG-",
        "outputId": "d2bc5b0c-7b4d-41e5-f055-f98f7fb9b22f"
      },
      "execution_count": 33,
      "outputs": [
        {
          "output_type": "stream",
          "name": "stdout",
          "text": [
            "There is no significant correlation between X and class label.\n",
            "Chi-squared Statistic for X: 0.0, P-value for X: 1.0\n",
            "Contingency Table for X:\n",
            "col_0          A  B\n",
            "X                  \n",
            "(0.999, 21.0]  3  3\n",
            "(21.0, 24.0]   1  0\n",
            "There is no significant correlation between Y and class label.\n",
            "Chi-squared Statistic for Y: 0.0, P-value for Y: 1.0\n",
            "Contingency Table for Y:\n",
            "col_0          A  B\n",
            "Y                  \n",
            "(1.999, 32.0]  3  3\n",
            "(32.0, 36.0]   1  0\n"
          ]
        }
      ]
    }
  ]
}