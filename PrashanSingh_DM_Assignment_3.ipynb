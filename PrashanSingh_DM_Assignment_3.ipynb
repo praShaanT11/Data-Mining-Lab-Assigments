{
  "nbformat": 4,
  "nbformat_minor": 0,
  "metadata": {
    "colab": {
      "provenance": []
    },
    "kernelspec": {
      "name": "python3",
      "display_name": "Python 3"
    },
    "language_info": {
      "name": "python"
    }
  },
  "cells": [
    {
      "cell_type": "markdown",
      "source": [
        "#**Assignment-3**\n",
        "**Name**- Prashant Singh\n",
        "\n",
        "**Enrollment No.**- SAU/CS/Mtech(CS)/2024/04\n",
        "\n",
        "**Course**- Data Mining\n",
        "\n",
        "**Question:**\n",
        "\n",
        "Implement Apriori Algorithm for Given Two Datasets."
      ],
      "metadata": {
        "id": "KjxPUYfLie9T"
      }
    },
    {
      "cell_type": "code",
      "source": [
        "import pandas as pd\n",
        "from itertools import combinations\n",
        "from collections import defaultdict"
      ],
      "metadata": {
        "id": "rgiDj8ycdXpy"
      },
      "execution_count": 8,
      "outputs": []
    },
    {
      "cell_type": "markdown",
      "source": [
        "#**Function For Apriori Algorithm**"
      ],
      "metadata": {
        "id": "QUNcDiePds0a"
      }
    },
    {
      "cell_type": "code",
      "source": [
        "def apriori(data, min_sup, min_conf):\n",
        "\n",
        "    c1 = defaultdict(int)\n",
        "    for itemset in data:\n",
        "        for item in itemset:\n",
        "            c1[item.strip()] += 1\n",
        "\n",
        "    c1 = {item: count for item, count in c1.items() if count >= min_sup}\n",
        "    items = list(c1.keys())\n",
        "    support = [c1]\n",
        "\n",
        "    for i in range(2, len(items) + 1):\n",
        "        s = defaultdict(int)\n",
        "        for subsets in combinations(items, i):\n",
        "            for itemset in data:\n",
        "                if set(subsets).issubset(itemset):\n",
        "                    s[subsets] += 1\n",
        "        s = {subsets: count for subsets, count in s.items() if count >= min_sup}\n",
        "        if not s:\n",
        "            break\n",
        "        support.append(s)\n",
        "    rules = []\n",
        "    for subsets in support[-1]:\n",
        "        for item in subsets:\n",
        "            c = list(subsets)\n",
        "            c.remove(item)\n",
        "            len_c = len(c)\n",
        "            c = c[0] if len_c == 1 else tuple(c)\n",
        "            rule_1 = support[-1][subsets] / support[0][item.strip()] * 100\n",
        "            rule_2 = support[-1][subsets] / support[len_c - 1][c] * 100\n",
        "\n",
        "            if rule_1 >= min_conf:\n",
        "                rules.append({'Rule': f\"{item} -> {c}\", 'Confidence': rule_1})\n",
        "            if rule_2 >= min_conf:\n",
        "                rules.append({'Rule': f\"{c} -> {item}\", 'Confidence': rule_2})\n",
        "\n",
        "    return support, rules\n"
      ],
      "metadata": {
        "id": "k8OhAVUhdh3p"
      },
      "execution_count": 18,
      "outputs": []
    },
    {
      "cell_type": "markdown",
      "source": [
        "#**Dataset-1**"
      ],
      "metadata": {
        "id": "ovTNNh7NeQYE"
      }
    },
    {
      "cell_type": "code",
      "source": [
        "df1 = pd.read_excel('/content/Dataset1.xlsx')\n",
        "print(df1)\n"
      ],
      "metadata": {
        "colab": {
          "base_uri": "https://localhost:8080/"
        },
        "id": "ATMBLCqyeFqP",
        "outputId": "2eff7ac4-86e6-47e6-cdf0-87d4e1a13c61"
      },
      "execution_count": 23,
      "outputs": [
        {
          "output_type": "stream",
          "name": "stdout",
          "text": [
            "  Transaction_Id    Items\n",
            "0             T1      A,B\n",
            "1             T2    A,C,D\n",
            "2             T3  A,B,C,D\n",
            "3             T4    A,D,E\n",
            "4             T5      B,C\n"
          ]
        }
      ]
    },
    {
      "cell_type": "code",
      "source": [
        "data = [tuple(item.strip() for item in items.split(',')) for items in df1['Items']]\n",
        "print(data)"
      ],
      "metadata": {
        "colab": {
          "base_uri": "https://localhost:8080/"
        },
        "id": "vgQ9RT9yecjq",
        "outputId": "1a50e091-e1f4-437b-fdbb-c97fa0065909"
      },
      "execution_count": 24,
      "outputs": [
        {
          "output_type": "stream",
          "name": "stdout",
          "text": [
            "[('A', 'B'), ('A', 'C', 'D'), ('A', 'B', 'C', 'D'), ('A', 'D', 'E'), ('B', 'C')]\n"
          ]
        }
      ]
    },
    {
      "cell_type": "markdown",
      "source": [
        "**Calculating Support**"
      ],
      "metadata": {
        "id": "BcgrBLKRfDEk"
      }
    },
    {
      "cell_type": "code",
      "source": [
        "support, rules = apriori(data,2, 50)\n",
        "print(\"Support:\", support)"
      ],
      "metadata": {
        "colab": {
          "base_uri": "https://localhost:8080/"
        },
        "id": "97i0Mm6FeqSm",
        "outputId": "4181ecbd-a116-4620-a0a5-4ba6c9ff17b9"
      },
      "execution_count": 21,
      "outputs": [
        {
          "output_type": "stream",
          "name": "stdout",
          "text": [
            "Support: [{'A': 4, 'B': 3, 'C': 3, 'D': 3}, {('A', 'B'): 2, ('A', 'C'): 2, ('A', 'D'): 3, ('B', 'C'): 2, ('C', 'D'): 2}, {('A', 'C', 'D'): 2}]\n"
          ]
        }
      ]
    },
    {
      "cell_type": "markdown",
      "source": [
        "**Association Rules**"
      ],
      "metadata": {
        "id": "62_DATYOfKEd"
      }
    },
    {
      "cell_type": "code",
      "source": [
        "rules = pd.DataFrame(rules)\n",
        "if not rules.empty:\n",
        "    print(\"\\nAssociation Rules:\")\n",
        "    print(rules)\n",
        "else:\n",
        "    print(\"\\nNo rules found that meet the confidence threshold.\")"
      ],
      "metadata": {
        "colab": {
          "base_uri": "https://localhost:8080/"
        },
        "id": "574S3Mu4eyg8",
        "outputId": "57a3b5ac-3263-4b2e-be85-8be5302b91a9"
      },
      "execution_count": 26,
      "outputs": [
        {
          "output_type": "stream",
          "name": "stdout",
          "text": [
            "\n",
            "Association Rules:\n",
            "              Rule  Confidence\n",
            "0  A -> ('C', 'D')   50.000000\n",
            "1  ('C', 'D') -> A  100.000000\n",
            "2  C -> ('A', 'D')   66.666667\n",
            "3  ('A', 'D') -> C   66.666667\n",
            "4  D -> ('A', 'C')   66.666667\n",
            "5  ('A', 'C') -> D  100.000000\n"
          ]
        }
      ]
    },
    {
      "cell_type": "markdown",
      "source": [
        "#**Dataset-2**"
      ],
      "metadata": {
        "id": "fQP848IsgVpG"
      }
    },
    {
      "cell_type": "code",
      "source": [
        "df2 = pd.read_excel('/content/Dataset2.xlsx')\n",
        "print(df2)"
      ],
      "metadata": {
        "colab": {
          "base_uri": "https://localhost:8080/"
        },
        "id": "d2NtQVYEgVNg",
        "outputId": "196149a1-729c-4a24-a066-12e061935b48"
      },
      "execution_count": 28,
      "outputs": [
        {
          "output_type": "stream",
          "name": "stdout",
          "text": [
            "  Transaction_Id        Items\n",
            "0             T1   I1, I2, I5\n",
            "1             T2        I2,I4\n",
            "2             T3        I2,I3\n",
            "3             T4     I1,I2,I4\n",
            "4             T5        I1,I3\n",
            "5             T6        I2,I3\n",
            "6             T7        I1,I3\n",
            "7             T8  I1,I2,I3,I5\n",
            "8             T9   I1, I2, I3\n"
          ]
        }
      ]
    },
    {
      "cell_type": "code",
      "source": [
        "data2= [tuple(item.strip() for item in items.split(',')) for items in df2['Items']]\n",
        "print(data2)"
      ],
      "metadata": {
        "colab": {
          "base_uri": "https://localhost:8080/"
        },
        "id": "6o2aCk8vhxcT",
        "outputId": "01b7775f-8d00-4f1d-e59d-f38f331d89a8"
      },
      "execution_count": 30,
      "outputs": [
        {
          "output_type": "stream",
          "name": "stdout",
          "text": [
            "[('I1', 'I2', 'I5'), ('I2', 'I4'), ('I2', 'I3'), ('I1', 'I2', 'I4'), ('I1', 'I3'), ('I2', 'I3'), ('I1', 'I3'), ('I1', 'I2', 'I3', 'I5'), ('I1', 'I2', 'I3')]\n"
          ]
        }
      ]
    },
    {
      "cell_type": "markdown",
      "source": [
        "**Calculating Support**"
      ],
      "metadata": {
        "id": "EfjbytyliURt"
      }
    },
    {
      "cell_type": "code",
      "source": [
        "support_2, rules_2 = apriori(data2,2, 50)\n",
        "print(\"Support:\", support)"
      ],
      "metadata": {
        "colab": {
          "base_uri": "https://localhost:8080/"
        },
        "id": "l5T6_Nu8h9WG",
        "outputId": "368178e6-1ec8-4cf9-81ba-261d6948abf3"
      },
      "execution_count": 32,
      "outputs": [
        {
          "output_type": "stream",
          "name": "stdout",
          "text": [
            "Support: [{'I1': 6, 'I2': 7, 'I5': 2, 'I4': 2, 'I3': 6}, {('I1', 'I2'): 4, ('I1', 'I5'): 2, ('I1', 'I3'): 4, ('I2', 'I5'): 2, ('I2', 'I4'): 2, ('I2', 'I3'): 4}, {('I1', 'I2', 'I5'): 2, ('I1', 'I2', 'I3'): 2}]\n"
          ]
        }
      ]
    },
    {
      "cell_type": "markdown",
      "source": [
        "**Association Rules**"
      ],
      "metadata": {
        "id": "zXX-n4tWiY38"
      }
    },
    {
      "cell_type": "code",
      "source": [
        "rules = pd.DataFrame(rules_2)\n",
        "if not rules.empty:\n",
        "    print(\"\\nAssociation Rules:\")\n",
        "    print(rules)\n",
        "else:\n",
        "    print(\"\\nNo rules found that meet the confidence threshold.\")"
      ],
      "metadata": {
        "colab": {
          "base_uri": "https://localhost:8080/"
        },
        "id": "oBS10GxOiGrl",
        "outputId": "d504d031-23f6-4ca3-a978-89c85044ee77"
      },
      "execution_count": 33,
      "outputs": [
        {
          "output_type": "stream",
          "name": "stdout",
          "text": [
            "\n",
            "Association Rules:\n",
            "                 Rule  Confidence\n",
            "0  ('I2', 'I5') -> I1       100.0\n",
            "1  ('I1', 'I5') -> I2       100.0\n",
            "2  I5 -> ('I1', 'I2')       100.0\n",
            "3  ('I1', 'I2') -> I5        50.0\n",
            "4  ('I2', 'I3') -> I1        50.0\n",
            "5  ('I1', 'I3') -> I2        50.0\n",
            "6  ('I1', 'I2') -> I3        50.0\n"
          ]
        }
      ]
    }
  ]
}